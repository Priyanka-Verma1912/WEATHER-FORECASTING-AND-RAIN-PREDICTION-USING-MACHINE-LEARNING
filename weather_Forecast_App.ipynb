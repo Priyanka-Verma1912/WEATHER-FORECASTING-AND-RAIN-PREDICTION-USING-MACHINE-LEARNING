{
  "cells": [
    {
      "cell_type": "markdown",
      "metadata": {
        "id": "P4fJBX0GUDty"
      },
      "source": [
        "**SECTION 1 : IMPORT LIBRARY**"
      ]
    },
    {
      "cell_type": "code",
      "source": [
        "from IPython import get_ipython\n",
        "from IPython.display import display"
      ],
      "metadata": {
        "id": "hehx8e16mJU2"
      },
      "execution_count": 2,
      "outputs": []
    },
    {
      "cell_type": "code",
      "execution_count": 3,
      "metadata": {
        "id": "cX615fPEUKkV"
      },
      "outputs": [],
      "source": [
        "import requests  #This libraray helps us to fetch data from API\n",
        "import pandas as pd #used for handling and analysing data\n",
        "import numpy as np #for numerical opertaions\n",
        "from sklearn.model_selection import train_test_split #to split data into tarining and testing data\n",
        "from sklearn.preprocessing import LabelEncoder #to convert categorical data into numericals values\n",
        "from sklearn.ensemble import RandomForestClassifier,RandomForestRegressor #models for classification and regression tasks\n",
        "from sklearn.metrics import mean_squared_error #to measure the accuracy of prediction\n",
        "from datetime import datetime, timedelta # to handle date and time\n",
        "import pytz"
      ]
    },
    {
      "cell_type": "code",
      "execution_count": 4,
      "metadata": {
        "id": "yhF2bwa2T9Qv"
      },
      "outputs": [],
      "source": [
        "API_KEY = '5dea6d558c8b6b29eaaf31297abb95d0' #replace with our actual API key\n",
        "BASE_URL ='https://api.openweathermap.org/data/2.5/' #base url for making API requests"
      ]
    },
    {
      "cell_type": "markdown",
      "metadata": {
        "id": "oguTmGnEWoiT"
      },
      "source": [
        "**1. Fetch current Weather Data**"
      ]
    },
    {
      "cell_type": "code",
      "execution_count": 5,
      "metadata": {
        "id": "L9Wqa5yGWzYO"
      },
      "outputs": [],
      "source": [
        "def get_current_weather(city):\n",
        "  url = f\"{BASE_URL}weather?q={city}&appid={API_KEY}&units=metric\" # construct the API request URL\n",
        "  response =requests.get(url)  #send the get request to API\n",
        "  data = response.json()\n",
        "  return{\n",
        "      'city': data['name'],\n",
        "      'current_temp' : round(data['main']['temp']),\n",
        "      'feels_like' : round(data['main']['feels_like']),\n",
        "      'temp_min' : round(data['main']['temp_min']),\n",
        "      'temp_max' : round(data['main']['temp_max']),\n",
        "      'humidity' : round(data['main']['humidity']),\n",
        "      'description' : data['weather'][0]['description'],\n",
        "     # 'country' : data['sys'][0]['country'],\n",
        "      'country' :[ 'country'],\n",
        "      'wind_gust_dir':data['wind']['deg'],\n",
        "      'pressure': data['main']['pressure'],\n",
        "      'Wind_Gust_Speed': data['wind']['speed'],\n",
        "\n",
        "  }"
      ]
    },
    {
      "cell_type": "markdown",
      "metadata": {
        "id": "fuMCunNya_g0"
      },
      "source": [
        "**2. Read Historical Data**"
      ]
    },
    {
      "cell_type": "code",
      "execution_count": 6,
      "metadata": {
        "id": "46yS4SVCbGHW"
      },
      "outputs": [],
      "source": [
        "def read_historical_data(filename):\n",
        "  df= pd.read_csv(filename)\n",
        "  df =df.dropna()\n",
        "  df =df.drop_duplicates()\n",
        "  return df"
      ]
    },
    {
      "cell_type": "markdown",
      "metadata": {
        "id": "JAZg3vqdcFNi"
      },
      "source": [
        "**3. Prepare Data for Training**"
      ]
    },
    {
      "cell_type": "code",
      "execution_count": 7,
      "metadata": {
        "id": "XShel-eScLDb"
      },
      "outputs": [],
      "source": [
        "def prepare_data(data):\n",
        "  le = LabelEncoder() #create a labelencoder instance\n",
        "  data['WindGustDir']= le.fit_transform(data['WindGustDir'])\n",
        "  data['RainTomorrow']= le.fit_transform(data['RainTomorrow'])\n",
        "\n",
        "  #define the feature variable and target variable\n",
        "  x= data[['MinTemp', 'MaxTemp', 'WindGustDir', 'WindGustSpeed','Humidity', 'Pressure','Temp']]\n",
        "  y=data['RainTomorrow']\n",
        "  return x, y, le #return feature variable, target variable and the label  encoder\n"
      ]
    },
    {
      "cell_type": "markdown",
      "metadata": {
        "id": "LTqnG790ebFW"
      },
      "source": [
        "**4. Train Rain Prediction Model**"
      ]
    },
    {
      "cell_type": "code",
      "execution_count": 8,
      "metadata": {
        "id": "jhGZr9BLegTb"
      },
      "outputs": [],
      "source": [
        "def train_rain_model(x,y):\n",
        "  x_train, x_test, y_train, y_test = train_test_split(x,y,test_size=0.2, random_state=42)\n",
        "  model = RandomForestClassifier(n_estimators=100, random_state=42)\n",
        "  model.fit(x_train,y_train) #train the model\n",
        "\n",
        "  y_pred =model.predict(x_test) #to make prediction on test set\n",
        "\n",
        "  print(\"Mean Squared Error for Rain Model\")\n",
        "\n",
        "  print(mean_squared_error(y_test,y_pred))\n",
        "\n",
        "  return model\n"
      ]
    },
    {
      "cell_type": "markdown",
      "metadata": {
        "id": "66ws9XMWf8Ye"
      },
      "source": [
        "**5. Preapare regression data**"
      ]
    },
    {
      "cell_type": "code",
      "execution_count": 9,
      "metadata": {
        "id": "Jmu9a2DMgJ2G"
      },
      "outputs": [],
      "source": [
        "def prepare_regression_data(data, feature):\n",
        "  x,y =[],[] #intialize list for feature and target value\n",
        "\n",
        "  for i in range(len(data)-1):\n",
        "    x.append(data[feature].iloc[i])\n",
        "    y.append(data[feature].iloc[i+1])\n",
        "\n",
        "  x=np.array(x).reshape(-1, 1)\n",
        "  y=np.array(y)\n",
        "  return x, y"
      ]
    },
    {
      "cell_type": "markdown",
      "metadata": {
        "id": "IeC2YVowhhRw"
      },
      "source": [
        "**Train Regression Data**"
      ]
    },
    {
      "cell_type": "code",
      "execution_count": 10,
      "metadata": {
        "id": "9-jRyXBfWlxR"
      },
      "outputs": [],
      "source": [
        "def train_regression_model(x,y):\n",
        "  model=RandomForestRegressor(n_estimators=100,random_state=42)\n",
        "  model.fit(x,y)\n",
        "\n",
        "  return model"
      ]
    },
    {
      "cell_type": "markdown",
      "metadata": {
        "id": "r34xdMsciCbU"
      },
      "source": [
        "**Predict Future**"
      ]
    },
    {
      "cell_type": "code",
      "execution_count": 11,
      "metadata": {
        "id": "M50Hzw8qiFSU"
      },
      "outputs": [],
      "source": [
        "def predict_feature(model,current_value):\n",
        "  predictions=[current_value]\n",
        "\n",
        "  for i in range(5):\n",
        "    next_value=model.predict(np.array([[predictions[-1]]]))\n",
        "\n",
        "    predictions.append(next_value[0])\n",
        "  return predictions[1:]"
      ]
    },
    {
      "cell_type": "code",
      "source": [],
      "metadata": {
        "id": "gWb2-zhejMfO"
      },
      "execution_count": null,
      "outputs": []
    },
    {
      "cell_type": "markdown",
      "metadata": {
        "id": "X_jdbsWeiw6v"
      },
      "source": [
        "**WEATHER ANALYSIS FUNCTIONS**"
      ]
    },
    {
      "cell_type": "code",
      "execution_count": 12,
      "metadata": {
        "colab": {
          "base_uri": "https://localhost:8080/"
        },
        "id": "PDzOweILi4tI",
        "outputId": "779bace9-b5bd-42f9-b31f-d6c907005d08"
      },
      "outputs": [
        {
          "output_type": "stream",
          "name": "stdout",
          "text": [
            "Enter the city name: india\n",
            "Mean Squared Error for Rain Model\n",
            "0.1506849315068493\n",
            "City: india, ['country']\n",
            "Current Temperature: 7°C\n",
            "Feels Like: 6°C\n",
            "Minimum Temperature: 7°C\n",
            "Maximum Temperature : 7°C\n",
            "Humidity: 85%\n",
            "Weather Description: clear sky\n",
            "Rain Presiction : Yes\n",
            "\n",
            "Future Temperature Predictions:\n",
            "11:00: 8.5°C\n",
            "12:00: 9.5°C\n",
            "13:00: 11.6°C\n",
            "14:00: 11.7°C\n",
            "15:00: 11.6°C\n",
            "\n",
            "Future Humidity Predictions:\n",
            "11:00: 49.0%\n",
            "12:00: 48.6%\n",
            "13:00: 48.6%\n",
            "14:00: 48.6%\n",
            "15:00: 48.6%\n"
          ]
        }
      ],
      "source": [
        "def weather_view():\n",
        "  city = input(\"Enter the city name: \")\n",
        "  current_weather = get_current_weather(city)\n",
        "\n",
        "  #load historical data\n",
        "  historical_data = read_historical_data('/content/drive/MyDrive/weather.csv')\n",
        "\n",
        "  #prepare and train prediction model\n",
        "  x,y,le=prepare_data(historical_data)\n",
        "\n",
        "  rain_model= train_rain_model(x, y)\n",
        "\n",
        "  #map wind direction to campass points\n",
        "  wind_deg =current_weather['wind_gust_dir']%360\n",
        "  compass_points= [\n",
        "      (\"N\",0, 11.25),(\"NNE\", 11.25, 33.75),(\"NE\", 33.75, 56.25),(\"ENE\", 56.25, 78.75),(\"E\",78.75, 101.25),\n",
        "      (\"ESE\",101.25, 123.75),(\"SE\", 123.75, 146.25),(\"SSE\",146.25, 168.75),(\"S\",168.75, 191.25),\n",
        "      (\"SSW\",191.25, 213.75),(\"SW\",213.75, 236.25),(\"WSW\",236.25, 258.75),(\"W\", 258.75, 281.25),\n",
        "      (\"WNW\",281.25, 303.75),(\"NW\",303.75, 326.25),(\"NNW\",326.25, 348.75)\n",
        "\n",
        "  ]\n",
        "  compass_direction= next(point for point, start,end in compass_points if start <= wind_deg < end)\n",
        "\n",
        "  compass_direction_encoded = le.transform([compass_direction])[0] if compass_direction in le.classes_ else -1\n",
        "\n",
        "  current_data = {\n",
        "      'MinTemp': current_weather['temp_min'],\n",
        "      'MaxTemp': current_weather['temp_max'],\n",
        "      'WindGustDir': compass_direction_encoded,\n",
        "      'WindGustSpeed': current_weather['Wind_Gust_Speed'],\n",
        "      'Humidity': current_weather['humidity'],\n",
        "      'Pressure': current_weather['pressure'],\n",
        "      'Temp': current_weather['current_temp']\n",
        "  }\n",
        "\n",
        "  current_df = pd.DataFrame([current_data])\n",
        "\n",
        "  #make rain prediction\n",
        "  rain_prediction = rain_model.predict(current_df)[0]\n",
        "\n",
        "  #prepare regression model for tempersture and humidity\n",
        "  x_temp,y_temp = prepare_regression_data(historical_data, 'Temp')\n",
        "  x_hum, y_hum = prepare_regression_data(historical_data, 'Humidity')\n",
        "  temp_model = train_regression_model(x_temp, y_temp)\n",
        "  hum_model = train_regression_model(x_hum, y_hum)\n",
        "\n",
        "  #predict future temperature and humidity\n",
        "  future_temp = predict_feature(temp_model, current_weather['temp_min'])\n",
        "  future_humidity = predict_feature(hum_model, current_weather['humidity'])\n",
        "\n",
        "  #prepare time for furture prediction\n",
        "  timezone = pytz.timezone('Asia/Karachi')\n",
        "  now =datetime.now(timezone)\n",
        "  next_hour = now+timedelta(hours=1)\n",
        "  next_hour = next_hour.replace(minute=0,second=0,microsecond=0)\n",
        "\n",
        "  future_times = [(next_hour + timedelta(hours=i)).strftime(\"%H:00\") for i in range(5)]\n",
        "\n",
        "  #display results\n",
        "  print(f\"City: {city}, {current_weather['country']}\")\n",
        "  print(f\"Current Temperature: {current_weather['current_temp']}°C\")\n",
        "  print(f\"Feels Like: {current_weather['feels_like']}°C\")\n",
        "  print(f\"Minimum Temperature: {current_weather['temp_min']}°C\")\n",
        "  print(f\"Maximum Temperature : {current_weather['temp_max']}°C\")\n",
        "  print(f\"Humidity: {current_weather['humidity']}%\")\n",
        "  print(f\"Weather Description: {current_weather['description']}\")\n",
        "  print(f\"Rain Presiction : {'Yes' if rain_prediction else 'No'}\")\n",
        "\n",
        "  print(\"\\nFuture Temperature Predictions:\")\n",
        "  for time, temp in zip(future_times, future_temp):\n",
        "    print(f\"{time}: {round(temp, 1)}°C\")\n",
        "\n",
        "  print(\"\\nFuture Humidity Predictions:\")\n",
        "  for time, humidity in zip(future_times, future_humidity):\n",
        "    print(f\"{time}: {round(humidity, 1)}%\")\n",
        "\n",
        "weather_view()\n",
        "\n",
        "\n",
        "\n",
        "\n",
        "\n"
      ]
    },
    {
      "cell_type": "code",
      "execution_count": null,
      "metadata": {
        "id": "9a6KivbRiBSN"
      },
      "outputs": [],
      "source": []
    }
  ],
  "metadata": {
    "colab": {
      "provenance": []
    },
    "kernelspec": {
      "display_name": "Python 3",
      "name": "python3"
    },
    "language_info": {
      "name": "python"
    }
  },
  "nbformat": 4,
  "nbformat_minor": 0
}